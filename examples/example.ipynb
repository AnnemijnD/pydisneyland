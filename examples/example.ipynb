{
 "cells": [
  {
   "cell_type": "code",
   "execution_count": 1,
   "metadata": {
    "collapsed": true
   },
   "outputs": [],
   "source": [
    "import grpc\n",
    "import optimusClient.optimus_pb2"
   ]
  },
  {
   "cell_type": "code",
   "execution_count": 2,
   "metadata": {},
   "outputs": [],
   "source": [
    "config_dict = optimusClient.initTestsConfig()\n",
    "\n",
    "creds = optimusClient.getCredentials()"
   ]
  },
  {
   "cell_type": "markdown",
   "metadata": {},
   "source": [
    "Create channel using ssl credentials"
   ]
  },
  {
   "cell_type": "code",
   "execution_count": 3,
   "metadata": {
    "collapsed": true
   },
   "outputs": [],
   "source": [
    "channel = grpc.secure_channel(config_dict.get(\"connect_to\"), creds)"
   ]
  },
  {
   "cell_type": "code",
   "execution_count": 4,
   "metadata": {
    "collapsed": true
   },
   "outputs": [],
   "source": [
    "stub = optimusClient.OptimusStub(channel)"
   ]
  },
  {
   "cell_type": "markdown",
   "metadata": {},
   "source": [
    "Create Job"
   ]
  },
  {
   "cell_type": "code",
   "execution_count": 5,
   "metadata": {},
   "outputs": [
    {
     "name": "stdout",
     "output_type": "stream",
     "text": [
      "success project: \"ship-shield\"\n",
      "id: 19\n",
      "metadata: \"vs\"\n",
      "input: \"python-client-input\"\n",
      "output: \"python-client-output\"\n",
      "\n"
     ]
    }
   ],
   "source": [
    "job = optimusClient.optimus_pb2.Job(metadata=\"vs\", input=\"python-client-input\", output=\"python-client-output\",\n",
    "                                    project=\"python-client\")\n",
    "created = stub.CreateJob(job)\n",
    "print(\"success {0}\".format(created))"
   ]
  }
 ],
 "metadata": {
  "kernelspec": {
   "display_name": "Python 3",
   "language": "python",
   "name": "python3"
  },
  "language_info": {
   "codemirror_mode": {
    "name": "ipython",
    "version": 3
   },
   "file_extension": ".py",
   "mimetype": "text/x-python",
   "name": "python",
   "nbconvert_exporter": "python",
   "pygments_lexer": "ipython3",
   "version": "3.6.2"
  }
 },
 "nbformat": 4,
 "nbformat_minor": 2
}
