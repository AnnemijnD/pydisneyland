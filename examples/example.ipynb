{
 "cells": [
  {
   "cell_type": "code",
   "execution_count": 1,
   "metadata": {},
   "outputs": [],
   "source": [
    "import grpc\n",
    "import optimusClient.optimus_pb2\n",
    "from optimusClient.optimus_pb2 import Job"
   ]
  },
  {
   "cell_type": "code",
   "execution_count": 2,
   "metadata": {
    "collapsed": true
   },
   "outputs": [],
   "source": [
    "config_dict = optimusClient.initTestsConfig()\n",
    "\n",
    "creds = optimusClient.getCredentials()"
   ]
  },
  {
   "cell_type": "markdown",
   "metadata": {},
   "source": [
    "Create channel using ssl credentials"
   ]
  },
  {
   "cell_type": "code",
   "execution_count": 3,
   "metadata": {
    "collapsed": true
   },
   "outputs": [],
   "source": [
    "channel = grpc.secure_channel(config_dict.get(\"connect_to\"), creds)"
   ]
  },
  {
   "cell_type": "code",
   "execution_count": 4,
   "metadata": {
    "collapsed": true
   },
   "outputs": [],
   "source": [
    "stub = optimusClient.OptimusStub(channel)"
   ]
  },
  {
   "cell_type": "markdown",
   "metadata": {},
   "source": [
    "# examples"
   ]
  },
  {
   "cell_type": "markdown",
   "metadata": {},
   "source": [
    "Create Job"
   ]
  },
  {
   "cell_type": "code",
   "execution_count": 5,
   "metadata": {
    "scrolled": true
   },
   "outputs": [
    {
     "name": "stdout",
     "output_type": "stream",
     "text": [
      "success project: \"ship-shield\"\n",
      "id: 7\n",
      "metadata: \"python-client-metadata\"\n",
      "input: \"python-client-input\"\n",
      "output: \"python-client-output\"\n",
      "\n"
     ]
    }
   ],
   "source": [
    "job = optimusClient.optimus_pb2.Job(metadata=\"python-client-metadata\", input=\"python-client-input\", output=\"python-client-output\")\n",
    "created_job = stub.CreateJob(job)\n",
    "print(\"success {0}\".format(created_job))"
   ]
  },
  {
   "cell_type": "markdown",
   "metadata": {},
   "source": [
    "Get Job"
   ]
  },
  {
   "cell_type": "code",
   "execution_count": 6,
   "metadata": {},
   "outputs": [
    {
     "name": "stdout",
     "output_type": "stream",
     "text": [
      "success project: \"ship-shield\"\n",
      "id: 7\n",
      "metadata: \"python-client-metadata\"\n",
      "input: \"python-client-input\"\n",
      "output: \"python-client-output\"\n",
      "\n"
     ]
    }
   ],
   "source": [
    "read_job = stub.GetJob(optimusClient.RequestWithId(id=created_job.id))\n",
    "optimusClient.checkJobsEqual(created_job, read_job)\n",
    "print(\"success {0}\".format(read_job))"
   ]
  },
  {
   "cell_type": "markdown",
   "metadata": {},
   "source": [
    "Modify Job"
   ]
  },
  {
   "cell_type": "code",
   "execution_count": 7,
   "metadata": {},
   "outputs": [
    {
     "name": "stdout",
     "output_type": "stream",
     "text": [
      "success project: \"ship-shield\"\n",
      "id: 7\n",
      "status: FAILED\n",
      "metric_value: \"metric_test\"\n",
      "metadata: \"meta_test\"\n",
      "input: \"python-client-input\"\n",
      "output: \"python-client-output\"\n",
      "kind: \"ETC\"\n",
      "\n"
     ]
    }
   ],
   "source": [
    "created_job.status = optimusClient.getEnumValueByName(optimusClient._JOB_STATUS, \"FAILED\")\n",
    "created_job.metric_value = \"metric_test\"\n",
    "created_job.metadata = \"meta_test\"\n",
    "created_job.kind = \"ETC\"\n",
    "\n",
    "updated_job = stub.ModifyJob(created_job)\n",
    "print(\"success {0}\".format(updated_job))"
   ]
  },
  {
   "cell_type": "markdown",
   "metadata": {},
   "source": [
    "Create with params"
   ]
  },
  {
   "cell_type": "code",
   "execution_count": 8,
   "metadata": {
    "scrolled": true
   },
   "outputs": [
    {
     "name": "stdout",
     "output_type": "stream",
     "text": [
      "success project: \"ship-shield\"\n",
      "id: 8\n",
      "coordinate: \"second\"\n",
      "\n"
     ]
    }
   ],
   "source": [
    "created_job = stub.CreateJob(Job(coordinate=\"second\"))\n",
    "print(\"success {0}\".format(created_job))"
   ]
  },
  {
   "cell_type": "markdown",
   "metadata": {},
   "source": [
    "get list of jobs"
   ]
  },
  {
   "cell_type": "code",
   "execution_count": 9,
   "metadata": {
    "scrolled": true
   },
   "outputs": [
    {
     "name": "stdout",
     "output_type": "stream",
     "text": [
      "success jobs {\n",
      "  project: \"ship-shield\"\n",
      "  id: 1\n",
      "  status: FAILED\n",
      "  metric_value: \"metric_test\"\n",
      "  metadata: \"meta_test\"\n",
      "  input: \"input_test\"\n",
      "  output: \"output_test\"\n",
      "  kind: \"kind_test\"\n",
      "}\n",
      "jobs {\n",
      "  project: \"ship-shield\"\n",
      "  id: 2\n",
      "  status: PULLED\n",
      "  coordinate: \"second\"\n",
      "}\n",
      "jobs {\n",
      "  project: \"ship-shield\"\n",
      "  id: 3\n",
      "}\n",
      "jobs {\n",
      "  project: \"ship-shield\"\n",
      "  id: 4\n",
      "}\n",
      "jobs {\n",
      "  project: \"ship-shield\"\n",
      "  id: 6\n",
      "  metadata: \"python-client-metadata\"\n",
      "  input: \"python-client-input\"\n",
      "  output: \"python-client-output\"\n",
      "}\n",
      "jobs {\n",
      "  project: \"ship-shield\"\n",
      "  id: 7\n",
      "  status: FAILED\n",
      "  metric_value: \"metric_test\"\n",
      "  metadata: \"meta_test\"\n",
      "  input: \"python-client-input\"\n",
      "  output: \"python-client-output\"\n",
      "  kind: \"ETC\"\n",
      "}\n",
      "jobs {\n",
      "  project: \"ship-shield\"\n",
      "  id: 8\n",
      "  coordinate: \"second\"\n",
      "}\n",
      "\n"
     ]
    }
   ],
   "source": [
    "all_jobs = stub.ListJobs(optimusClient.ListJobsRequest())\n",
    "if len(all_jobs.jobs) > 0:\n",
    "    print(\"success {0}\".format(all_jobs))"
   ]
  },
  {
   "cell_type": "markdown",
   "metadata": {},
   "source": [
    "Pull pending jobs"
   ]
  },
  {
   "cell_type": "code",
   "execution_count": 10,
   "metadata": {
    "scrolled": true
   },
   "outputs": [
    {
     "name": "stdout",
     "output_type": "stream",
     "text": [
      "success jobs {\n",
      "  project: \"ship-shield\"\n",
      "  id: 1\n",
      "  status: FAILED\n",
      "  metric_value: \"metric_test\"\n",
      "  metadata: \"meta_test\"\n",
      "  input: \"input_test\"\n",
      "  output: \"output_test\"\n",
      "  kind: \"kind_test\"\n",
      "}\n",
      "jobs {\n",
      "  project: \"ship-shield\"\n",
      "  id: 2\n",
      "  status: PULLED\n",
      "  coordinate: \"second\"\n",
      "}\n",
      "jobs {\n",
      "  project: \"ship-shield\"\n",
      "  id: 3\n",
      "}\n",
      "jobs {\n",
      "  project: \"ship-shield\"\n",
      "  id: 4\n",
      "}\n",
      "jobs {\n",
      "  project: \"ship-shield\"\n",
      "  id: 6\n",
      "  metadata: \"python-client-metadata\"\n",
      "  input: \"python-client-input\"\n",
      "  output: \"python-client-output\"\n",
      "}\n",
      "jobs {\n",
      "  project: \"ship-shield\"\n",
      "  id: 7\n",
      "  status: FAILED\n",
      "  metric_value: \"metric_test\"\n",
      "  metadata: \"meta_test\"\n",
      "  input: \"python-client-input\"\n",
      "  output: \"python-client-output\"\n",
      "  kind: \"ETC\"\n",
      "}\n",
      "jobs {\n",
      "  project: \"ship-shield\"\n",
      "  id: 8\n",
      "  coordinate: \"second\"\n",
      "}\n",
      "\n"
     ]
    }
   ],
   "source": [
    "pulled_jobs = stub.PullPendingJobs(optimusClient.ListJobsRequest(how_many=2))\n",
    "if len(pulled_jobs.jobs) == 2:\n",
    "    print(\"success {0}\".format(all_jobs))"
   ]
  },
  {
   "cell_type": "markdown",
   "metadata": {},
   "source": [
    "Create Multiple Jobs"
   ]
  },
  {
   "cell_type": "code",
   "execution_count": 11,
   "metadata": {},
   "outputs": [
    {
     "name": "stdout",
     "output_type": "stream",
     "text": [
      "success jobs {\n",
      "  project: \"ship-shield\"\n",
      "  id: 9\n",
      "  input: \"first\"\n",
      "}\n",
      "jobs {\n",
      "  project: \"ship-shield\"\n",
      "  id: 10\n",
      "  input: \"second\"\n",
      "}\n",
      "\n"
     ]
    }
   ],
   "source": [
    "multiple_jobs = stub.CreateMultipleJobs(optimusClient.ListOfJobs(jobs=[Job(input=\"first\"), Job(input=\"second\")]))\n",
    "if len(multiple_jobs.jobs) == 2:\n",
    "    print(\"success {0}\".format(multiple_jobs))"
   ]
  },
  {
   "cell_type": "code",
   "execution_count": null,
   "metadata": {
    "collapsed": true
   },
   "outputs": [],
   "source": []
  }
 ],
 "metadata": {
  "kernelspec": {
   "display_name": "Python 3",
   "language": "python",
   "name": "python3"
  },
  "language_info": {
   "codemirror_mode": {
    "name": "ipython",
    "version": 3
   },
   "file_extension": ".py",
   "mimetype": "text/x-python",
   "name": "python",
   "nbconvert_exporter": "python",
   "pygments_lexer": "ipython3",
   "version": "3.6.2"
  }
 },
 "nbformat": 4,
 "nbformat_minor": 2
}
