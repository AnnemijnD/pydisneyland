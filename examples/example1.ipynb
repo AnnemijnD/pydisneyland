{
 "cells": [
  {
   "cell_type": "code",
   "execution_count": null,
   "metadata": {
    "collapsed": true
   },
   "outputs": [],
   "source": []
  },
  {
   "cell_type": "code",
   "execution_count": null,
   "metadata": {
    "collapsed": true
   },
   "outputs": [],
   "source": [
    "def checkJobsEqual(a Job, b Job):\n",
    "    return (a.Project == b.Project) &&\n",
    "        (a.Id == b.Id) &&\n",
    "        (a.Status == b.Status) &&\n",
    "        (a.Coordinate == b.Coordinate) &&\n",
    "        (a.MetricValue == b.MetricValue) &&\n",
    "        (a.Metadata == b.Metadata) &&\n",
    "        (a.Kind == b.Kind) &&\n",
    "        (a.Output == b.Output) &&\n",
    "        (a.Input == b.Input)"
   ]
  }
 ],
 "metadata": {
  "kernelspec": {
   "display_name": "Python 2",
   "language": "python",
   "name": "python2"
  },
  "language_info": {
   "codemirror_mode": {
    "name": "ipython",
    "version": 3
   },
   "file_extension": ".py",
   "mimetype": "text/x-python",
   "name": "python",
   "nbconvert_exporter": "python",
   "pygments_lexer": "ipython3",
   "version": "3.6.2"
  }
 },
 "nbformat": 4,
 "nbformat_minor": 1
}
